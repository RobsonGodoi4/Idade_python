{
  "nbformat": 4,
  "nbformat_minor": 0,
  "metadata": {
    "colab": {
      "provenance": [],
      "authorship_tag": "ABX9TyOaiccwCB5E7ywO8pm9PipD",
      "include_colab_link": true
    },
    "kernelspec": {
      "name": "python3",
      "display_name": "Python 3"
    },
    "language_info": {
      "name": "python"
    }
  },
  "cells": [
    {
      "cell_type": "markdown",
      "metadata": {
        "id": "view-in-github",
        "colab_type": "text"
      },
      "source": [
        "<a href=\"https://colab.research.google.com/github/RobsonGodoi4/Idade_python/blob/main/ano_nascimento.ipynb\" target=\"_parent\"><img src=\"https://colab.research.google.com/assets/colab-badge.svg\" alt=\"Open In Colab\"/></a>"
      ]
    },
    {
      "cell_type": "code",
      "execution_count": 3,
      "metadata": {
        "id": "5-WA-DsTkIHf",
        "colab": {
          "base_uri": "https://localhost:8080/"
        },
        "outputId": "f7913c08-e817-4967-b2a5-21e9bbe15921"
      },
      "outputs": [
        {
          "output_type": "stream",
          "name": "stdout",
          "text": [
            "Digite seu nome completo: Godoi\n",
            "Digite seu ano de nascimento (entre 1922 e 2021): 2004\n",
            "Olá, Godoi! Em 2022, você completou ou completará 20 anos.\n"
          ]
        }
      ],
      "source": [
        "while True:\n",
        "    try:\n",
        "        nome = input(\"Digite seu nome completo: \")\n",
        "        ano_nascimento = int(input(\"Digite seu ano de nascimento (entre 1922 e 2021): \"))\n",
        "\n",
        "        if 1922 <= ano_nascimento <= 2021:\n",
        "             idade = 2024 - ano_nascimento\n",
        "             print(f\"Olá, {nome}! Em 2022, você completou ou completará {idade} anos.\")\n",
        "             break\n",
        "        else:\n",
        "             print(\"Ano fora do intervalo! Tente novamente.\")\n",
        "    except ValueError:\n",
        "      print(\"Entrada inválida! Digite um número válido para o ano de nascimento.\")\n"
      ]
    }
  ]
}